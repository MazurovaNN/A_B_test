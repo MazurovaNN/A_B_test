{
  "nbformat": 4,
  "nbformat_minor": 0,
  "metadata": {
    "colab": {
      "provenance": [],
      "authorship_tag": "ABX9TyOwDhIMC3jkep65QOqttJQi",
      "include_colab_link": true
    },
    "kernelspec": {
      "name": "python3",
      "display_name": "Python 3"
    },
    "language_info": {
      "name": "python"
    }
  },
  "cells": [
    {
      "cell_type": "markdown",
      "metadata": {
        "id": "view-in-github",
        "colab_type": "text"
      },
      "source": [
        "<a href=\"https://colab.research.google.com/github/MazurovaNN/A_B_test/blob/main/DZ7_A_B_test.ipynb\" target=\"_parent\"><img src=\"https://colab.research.google.com/assets/colab-badge.svg\" alt=\"Open In Colab\"/></a>"
      ]
    },
    {
      "cell_type": "code",
      "execution_count": 35,
      "metadata": {
        "id": "iPaG7avN9rHI"
      },
      "outputs": [],
      "source": [
        "# импорт необходимых библиотек\n",
        "from statsmodels.stats.power import tt_ind_solve_power, zt_ind_solve_power\n",
        "from statsmodels.stats.proportion import proportion_effectsize\n",
        "from statsmodels.stats.meta_analysis import effectsize_smd\n",
        "from typing import Union\n",
        "import plotly.graph_objects as go\n",
        "from scipy import stats\n",
        "from math import asin\n",
        "import numpy as np"
      ]
    },
    {
      "cell_type": "markdown",
      "source": [
        "##Задача\n",
        "На основе выбранных продуктов из первого вебинара, выберите 2 A/B-теста и составьте план эксперимента, чтобы избежать Peeking Problem\n",
        "\n",
        "Распишите, какие метрики и как вы будете анализировать (длительность эксперимента)"
      ],
      "metadata": {
        "id": "aNJKl6M__Gc4"
      }
    },
    {
      "cell_type": "markdown",
      "source": [
        "##Выбран продукт OZON\n",
        "Торговая площадка\n",
        "\n",
        "##А/В-тесты\n",
        "1) Таймспент на юзера в сутки в среднем в минутах (МЕТРИКА1)\n",
        "\n",
        "Версия А 25 мин.\n",
        "\n",
        "Версия В 27.5 мин.\n",
        "\n",
        "2) bounce rate в GA  (МЕТРИКА2)\n",
        "\n",
        "Версия А 40%\n",
        "\n",
        "Версия В 48%\n",
        "##ПЛАН ЭКСПЕРИМЕНТА\n",
        "Выяснить, сколько дней держать эксперимент, если\n",
        "Продакт на главной OZON.ru решил протестировать в рекомендательной ленте контента вместо карточек со статьями видеоплеер с короткими видео. Нынешний таймспент на юзера в день в среднем равен 25 минут, а стандартная ошибка (SD) равна 156. Мы предполагаем, что в новой версии таймспент на юзера в день составит 27.5 минут. \n",
        "Средний трафик 20000 человек в день. Посчитайте сколько дней необходимо держать эксперимент при alpha = 5% и beta = 20% .\n",
        "Посещение в сутки\n",
        "Версия А 20000\n",
        "Версия В 20000"
      ],
      "metadata": {
        "id": "lhELFOo8Dcfa"
      }
    },
    {
      "cell_type": "code",
      "source": [
        "#Расчёт effect_size для непрерывных метрик\n",
        "def calc_continuous_effect_size(mean_1: Union[float, int],\n",
        "                                std_1: Union[float, int],\n",
        "                                mean_2: Union[float, int],\n",
        "                                std_2: Union[float, int],\n",
        "                                nobs_1: int = 20_000,\n",
        "                                nobs_2: int = 20_000):\n",
        "    \n",
        "    es_formula = (mean_1 - mean_2) / ((std_1**2 + std_2**2) / 2) ** 0.5\n",
        "    es_import = effectsize_smd(mean_1, std_1, nobs_1, mean_2, std_2, nobs_2)[0]\n",
        "    \n",
        "    return es_formula, es_import "
      ],
      "metadata": {
        "id": "r5tUYV1OLChB"
      },
      "execution_count": 19,
      "outputs": []
    },
    {
      "cell_type": "code",
      "source": [
        "mu_control, mu_test = 25, 27.5\n",
        "std_control, std_test = 156, 156"
      ],
      "metadata": {
        "id": "jWpLlYmoRgiz"
      },
      "execution_count": 29,
      "outputs": []
    },
    {
      "cell_type": "code",
      "source": [
        "calc_continuous_effect_size(mean_1=mu_control, std_1=std_control, mean_2=mu_test, std_2=std_test) \n"
      ],
      "metadata": {
        "colab": {
          "base_uri": "https://localhost:8080/"
        },
        "id": "AnBKPBZRSeIo",
        "outputId": "9644595d-ad82-482e-86f9-06b93e19f57f"
      },
      "execution_count": 30,
      "outputs": [
        {
          "output_type": "execute_result",
          "data": {
            "text/plain": [
              "(-0.016025641025641024, -0.0160253405279688)"
            ]
          },
          "metadata": {},
          "execution_count": 30
        }
      ]
    },
    {
      "cell_type": "code",
      "source": [
        "effect_size = calc_continuous_effect_size(mean_1=mu_control, std_1=std_control, mean_2=mu_test, std_2=std_test)[1]\n",
        "calc_sample_size_continuous(effect_size=effect_size, alpha=.05, beta=.2)     "
      ],
      "metadata": {
        "id": "0rDEFuwvTkvq"
      },
      "execution_count": null,
      "outputs": []
    },
    {
      "cell_type": "markdown",
      "source": [
        "122252\n"
      ],
      "metadata": {
        "id": "EabVGMyPVib3"
      }
    },
    {
      "cell_type": "markdown",
      "source": [
        "Для получения точных данных и достоверные результаты\n",
        "\n",
        "##Эксперимент 1 рекомендуется держать 6 суток"
      ],
      "metadata": {
        "id": "1pMGn0RWVpR5"
      }
    },
    {
      "cell_type": "markdown",
      "source": [
        "##ЭКСПЕРИМЕНТ 2\n",
        "Команда планирует запустить тест2 на площадке OZON, направленный на ускорение загрузки сайта OZON. Одна из основных метрик bounce rate в GA = 40%. Наша команда предполагает, что при оптимизации сайта она изменится и станет 48.Средний трафик 4000 человек в день. Посчитаем, сколько нам нужно дней держать эксперимент при alpha = 5% и beta = 20%"
      ],
      "metadata": {
        "id": "QMwrGWt7YkiK"
      }
    },
    {
      "cell_type": "code",
      "source": [
        "#Расчёт effect_size для непрерывных метрик\n",
        "def calc_continuous_effect_size(mean_1: Union[float, int],\n",
        "                                std_1: Union[float, int],\n",
        "                                mean_2: Union[float, int],\n",
        "                                std_2: Union[float, int],\n",
        "                                nobs_1: int = 4_000,\n",
        "                                nobs_2: int = 4_000):\n",
        "    \n",
        "    es_formula = (mean_1 - mean_2) / ((std_1**2 + std_2**2) / 2) ** 0.5\n",
        "    es_import = effectsize_smd(mean_1, std_1, nobs_1, mean_2, std_2, nobs_2)[0]\n",
        "    \n",
        "    return es_formula, es_import \n",
        "     "
      ],
      "metadata": {
        "id": "pdtsOWWVWvnx"
      },
      "execution_count": 32,
      "outputs": []
    },
    {
      "cell_type": "code",
      "source": [
        "mu_control, mu_test = 40, 48"
      ],
      "metadata": {
        "id": "ABxMXhxvWxpw"
      },
      "execution_count": 33,
      "outputs": []
    },
    {
      "cell_type": "code",
      "source": [
        "effect_size = calc_continuous_effect_size(mean_1=mu_control, std_1=std_control, mean_2=mu_test, std_2=std_test)[1]\n",
        "calc_sample_size_continuous(effect_size=effect_size, alpha=.05, beta=.2)"
      ],
      "metadata": {
        "id": "ywk9TxdZW8Wd"
      },
      "execution_count": null,
      "outputs": []
    },
    {
      "cell_type": "markdown",
      "source": [
        "11942"
      ],
      "metadata": {
        "id": "H5DXnbQ-XAIL"
      }
    },
    {
      "cell_type": "markdown",
      "source": [
        "##Для получения точных данных и достоверные результаты\n",
        "Эксперимент рекомендуется держать 3 дня"
      ],
      "metadata": {
        "id": "CvAChusla_2E"
      }
    }
  ]
}