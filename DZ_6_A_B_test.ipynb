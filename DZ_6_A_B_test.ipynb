{
  "nbformat": 4,
  "nbformat_minor": 0,
  "metadata": {
    "colab": {
      "provenance": [],
      "authorship_tag": "ABX9TyNo1BDHk7H/U9B3aRjo5nx0",
      "include_colab_link": true
    },
    "kernelspec": {
      "name": "python3",
      "display_name": "Python 3"
    },
    "language_info": {
      "name": "python"
    }
  },
  "cells": [
    {
      "cell_type": "markdown",
      "metadata": {
        "id": "view-in-github",
        "colab_type": "text"
      },
      "source": [
        "<a href=\"https://colab.research.google.com/github/MazurovaNN/A_B_test/blob/main/DZ_6_A_B_test.ipynb\" target=\"_parent\"><img src=\"https://colab.research.google.com/assets/colab-badge.svg\" alt=\"Open In Colab\"/></a>"
      ]
    },
    {
      "cell_type": "code",
      "execution_count": 7,
      "metadata": {
        "id": "wabjQiPVXhoi"
      },
      "outputs": [],
      "source": [
        "# импорт необходимых библиотек\n",
        "from statsmodels.stats.power import tt_ind_solve_power, zt_ind_solve_power\n",
        "from statsmodels.stats.proportion import proportion_effectsize\n",
        "from statsmodels.stats.meta_analysis import effectsize_smd\n",
        "from typing import Union\n",
        "import plotly.graph_objects as go\n",
        "from scipy import stats\n",
        "from math import asin\n",
        "import numpy as np"
      ]
    },
    {
      "cell_type": "markdown",
      "source": [
        "## Задача 1.\n",
        "Продакт на главной mail.ru решил протестировать в рекомендательной ленте контента вместо карточек со статьями видеоплеер с короткими видео. Нынешний таймспент на юзера в день в среднем равен 25 минут, а стандартная ошибка (SD) равна 156. Мы предполагаем, что в новой версии таймспент на юзера в день изменится на 10%. Средний трафик 20000 человек в день. Посчитайте сколько дней необходимо держать эксперимент при alpha = 5% и beta = 20% ."
      ],
      "metadata": {
        "id": "rGhiEq6nXv4u"
      }
    },
    {
      "cell_type": "code",
      "source": [
        "#Расчёт effect_size для непрерывных метрик\n",
        "def calc_continuous_effect_size(mean_1: Union[float, int],\n",
        "                                std_1: Union[float, int],\n",
        "                                mean_2: Union[float, int],\n",
        "                                std_2: Union[float, int],\n",
        "                                nobs_1: int = 20_000,\n",
        "                                nobs_2: int = 20_000):\n",
        "    \n",
        "    es_formula = (mean_1 - mean_2) / ((std_1**2 + std_2**2) / 2) ** 0.5\n",
        "    es_import = effectsize_smd(mean_1, std_1, nobs_1, mean_2, std_2, nobs_2)[0]\n",
        "    \n",
        "    return es_formula, es_import "
      ],
      "metadata": {
        "id": "_HjxnV9FhSmd"
      },
      "execution_count": 8,
      "outputs": []
    },
    {
      "cell_type": "code",
      "source": [
        "mu_control, mu_test = 25, 27.5\n",
        "std_control, std_test = 156, 156"
      ],
      "metadata": {
        "id": "4PrzZGLhh1gm"
      },
      "execution_count": 13,
      "outputs": []
    },
    {
      "cell_type": "code",
      "source": [
        "calc_continuous_effect_size(mean_1=mu_control, std_1=std_control, mean_2=mu_test, std_2=std_test) "
      ],
      "metadata": {
        "colab": {
          "base_uri": "https://localhost:8080/"
        },
        "id": "Rb87D9Jji0ZQ",
        "outputId": "74f985ca-d49b-46f8-9142-da7e924e8eaa"
      },
      "execution_count": 12,
      "outputs": [
        {
          "output_type": "execute_result",
          "data": {
            "text/plain": [
              "(-0.016025641025641024, -0.0160253405279688)"
            ]
          },
          "metadata": {},
          "execution_count": 12
        }
      ]
    },
    {
      "cell_type": "code",
      "source": [
        "effect_size = calc_continuous_effect_size(mean_1=mu_control, std_1=std_control, mean_2=mu_test, std_2=std_test)[1]\n",
        "calc_sample_size_continuous(effect_size=effect_size, alpha=.05, beta=.2)"
      ],
      "metadata": {
        "colab": {
          "base_uri": "https://localhost:8080/"
        },
        "id": "m4jUTbAzi-iF",
        "outputId": "4e31a93a-2149-4246-ab07-c7b3dd445ac7"
      },
      "execution_count": 14,
      "outputs": [
        {
          "output_type": "execute_result",
          "data": {
            "text/plain": [
              "122252"
            ]
          },
          "metadata": {},
          "execution_count": 14
        }
      ]
    },
    {
      "cell_type": "markdown",
      "source": [
        "Эксперимент рекомендуется держать 6 дней"
      ],
      "metadata": {
        "id": "0OxGbxetlLxG"
      }
    },
    {
      "cell_type": "markdown",
      "source": [
        "## Задача2\n",
        "Наша продуктовая команда в ecommerce магазине планирует запустить тест, направленный на ускорение загрузки сайта. Одна из основных метрик bounce rate в GA = 40%. Мы предполагаем, что при оптимизации сайта она изменится минимум на 20%.Средний трафик 4000 человек в день. Посчитайте сколько нам нужно дней держать эксперимент при alpha = 5% и beta = 20%"
      ],
      "metadata": {
        "id": "EHModih-l0IQ"
      }
    },
    {
      "cell_type": "code",
      "source": [
        "#Расчёт effect_size для непрерывных метрик\n",
        "def calc_continuous_effect_size(mean_1: Union[float, int],\n",
        "                                std_1: Union[float, int],\n",
        "                                mean_2: Union[float, int],\n",
        "                                std_2: Union[float, int],\n",
        "                                nobs_1: int = 4_000,\n",
        "                                nobs_2: int = 4_000):\n",
        "    \n",
        "    es_formula = (mean_1 - mean_2) / ((std_1**2 + std_2**2) / 2) ** 0.5\n",
        "    es_import = effectsize_smd(mean_1, std_1, nobs_1, mean_2, std_2, nobs_2)[0]\n",
        "    \n",
        "    return es_formula, es_import "
      ],
      "metadata": {
        "id": "hvnbRwmZmacF"
      },
      "execution_count": 15,
      "outputs": []
    },
    {
      "cell_type": "code",
      "source": [
        "mu_control, mu_test = 40, 48"
      ],
      "metadata": {
        "id": "6hDcDnWum_SJ"
      },
      "execution_count": 17,
      "outputs": []
    },
    {
      "cell_type": "code",
      "source": [
        "effect_size = calc_continuous_effect_size(mean_1=mu_control, std_1=std_control, mean_2=mu_test, std_2=std_test)[1]\n",
        "calc_sample_size_continuous(effect_size=effect_size, alpha=.05, beta=.2)"
      ],
      "metadata": {
        "colab": {
          "base_uri": "https://localhost:8080/"
        },
        "id": "uwr_Af6pnFeA",
        "outputId": "16676db5-e81a-4599-b441-add814d5ebd1"
      },
      "execution_count": 18,
      "outputs": [
        {
          "output_type": "execute_result",
          "data": {
            "text/plain": [
              "11942"
            ]
          },
          "metadata": {},
          "execution_count": 18
        }
      ]
    },
    {
      "cell_type": "markdown",
      "source": [
        "Эксперимент рекомендуется держать 3 дня"
      ],
      "metadata": {
        "id": "LQWI4En6nOhj"
      }
    },
    {
      "cell_type": "markdown",
      "source": [],
      "metadata": {
        "id": "XPwvuCwZnfh8"
      }
    }
  ]
}